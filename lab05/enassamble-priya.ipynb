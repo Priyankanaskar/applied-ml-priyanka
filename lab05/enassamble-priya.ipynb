{
 "cells": [
  {
   "cell_type": "markdown",
   "id": "6d4782d9",
   "metadata": {},
   "source": [
    "# Lab 5: Project (Ensemble ML, Spiral)"
   ]
  },
  {
   "cell_type": "markdown",
   "id": "c15654ff",
   "metadata": {},
   "source": [
    "## Lab 5: Ensemble Machine Learning – Wine Dataset\n",
    "Author: Priyanka Naskar\n",
    "\n",
    "Date: 4/11/25"
   ]
  },
  {
   "cell_type": "markdown",
   "id": "f1b9b18a",
   "metadata": {},
   "source": [
    "In this project, we learn how to implement and evaluate more complex models when simpler techniques aren't enough. We'll explore ensemble models, a powerful approach in machine learning that combines multiple models to improve performance. Ensemble methods often outperform individual models by reducing overfitting and improving generalization"
   ]
  },
  {
   "cell_type": "markdown",
   "id": "fc2261f1",
   "metadata": {},
   "source": [
    "## Introduction to Ensemble Models"
   ]
  },
  {
   "cell_type": "markdown",
   "id": "d7d3d1f4",
   "metadata": {},
   "source": [
    "Ensemble models combine the outputs of multiple models to improve predictive performance. Common types of ensemble models include:\n",
    "\n",
    "Boosted Decision Trees – Models train sequentially, with each new tree correcting the errors of the previous one.\n",
    "Random Forest – Multiple decision trees train in parallel, each on a random subset of the data, and their predictions are averaged.\n",
    "Voting Classifier (Heterogeneous Models) – Combines different types of models (e.g., Decision Tree, SVM, and Neural Network) by taking the majority vote or average prediction.\n",
    "Cross Validation – Divides data into multiple folds to improve the reliability of performance estimates."
   ]
  },
  {
   "cell_type": "markdown",
   "id": "34937d73",
   "metadata": {},
   "source": [
    "### Performance Metrics"
   ]
  },
  {
   "cell_type": "markdown",
   "id": "35c3ec52",
   "metadata": {},
   "source": [
    "We will evaluate model performance using the following metrics:\n",
    "\n",
    "Accuracy –  The proportion of all predictions that are correct.\n",
    "Precision – Proportion of positive predictions that are truly positive.\n",
    "Recall – Proportion of actual positives that are correctly predicted.\n",
    "F1 Score – Harmonic mean of precision and recall, balancing both."
   ]
  },
  {
   "cell_type": "markdown",
   "id": "c5581a7f",
   "metadata": {},
   "source": [
    "## Imports Libraries"
   ]
  },
  {
   "cell_type": "code",
   "execution_count": 1,
   "id": "cd905cca",
   "metadata": {},
   "outputs": [],
   "source": [
    "\n",
    "# ------------------------------------------------\n",
    "# Imports once at the top, organized\n",
    "# ------------------------------------------------\n",
    "\n",
    "import pandas as pd\n",
    "import numpy \n",
    "import matplotlib.pyplot as plt\n",
    "import seaborn as sns\n",
    "from sklearn.ensemble import (\n",
    "    RandomForestClassifier,\n",
    "    AdaBoostClassifier,\n",
    "    GradientBoostingClassifier,\n",
    "    BaggingClassifier,\n",
    "    VotingClassifier,\n",
    ")\n",
    "from sklearn.tree import DecisionTreeClassifier\n",
    "from sklearn.svm import SVC\n",
    "from sklearn.linear_model import LogisticRegression\n",
    "from sklearn.neighbors import KNeighborsClassifier\n",
    "from sklearn.neural_network import MLPClassifier\n",
    "\n",
    "from sklearn.preprocessing import LabelEncoder\n",
    "from sklearn.model_selection import train_test_split\n",
    "from sklearn.metrics import (\n",
    "    confusion_matrix,\n",
    "    accuracy_score,\n",
    "    precision_score,\n",
    "    recall_score,\n",
    "    f1_score,\n",
    ")"
   ]
  },
  {
   "cell_type": "markdown",
   "id": "306b4b43",
   "metadata": {},
   "source": [
    "### Some colors used in this notebook were selected from the following color collection: "
   ]
  },
  {
   "cell_type": "code",
   "execution_count": 2,
   "id": "5c317fd0",
   "metadata": {},
   "outputs": [
    {
     "data": {
      "image/png": "[encoded data removed]",
      "text/plain": [
       "<Figure size 3200x200 with 1 Axes>"
      ]
     },
     "metadata": {},
     "output_type": "display_data"
    }
   ],
   "source": [
    "purple = ['#491D8B', '#6929C4', '#8A3FFC', '#A56EFF',\n",
    "          '#BE95FF', '#CA96EC', '#A163CF', '#29066B',\n",
    "          '#7D3AC1', '#AF4BCE', '#DB4CB2', '#EB548C',\n",
    "          '#EC96E0', '#A2128E', '#E8D9F3', '#641811']\n",
    "\n",
    "sns.palplot(purple, size = 2)"
   ]
  },
  {
   "cell_type": "markdown",
   "id": "4be80fc2",
   "metadata": {},
   "source": [
    "## Section 1. Load and Inspect the Data"
   ]
  },
  {
   "cell_type": "code",
   "execution_count": 3,
   "id": "c3037f6c",
   "metadata": {},
   "outputs": [],
   "source": [
    "# Load the dataset (download from UCI and save in the same folder)\n",
    "df = pd.read_csv(\"winequality-red.csv\", sep=\";\")"
   ]
  },
  {
   "cell_type": "code",
   "execution_count": 4,
   "id": "f293278f",
   "metadata": {},
   "outputs": [
    {
     "name": "stdout",
     "output_type": "stream",
     "text": [
      "<class 'pandas.core.frame.DataFrame'>\n",
      "RangeIndex: 1599 entries, 0 to 1598\n",
      "Data columns (total 12 columns):\n",
      " #   Column                Non-Null Count  Dtype  \n",
      "---  ------                --------------  -----  \n",
      " 0   fixed acidity         1599 non-null   float64\n",
      " 1   volatile acidity      1599 non-null   float64\n",
      " 2   citric acid           1599 non-null   float64\n",
      " 3   residual sugar        1599 non-null   float64\n",
      " 4   chlorides             1599 non-null   float64\n",
      " 5   free sulfur dioxide   1599 non-null   float64\n",
      " 6   total sulfur dioxide  1599 non-null   float64\n",
      " 7   density               1599 non-null   float64\n",
      " 8   pH                    1599 non-null   float64\n",
      " 9   sulphates             1599 non-null   float64\n",
      " 10  alcohol               1599 non-null   float64\n",
      " 11  quality               1599 non-null   int64  \n",
      "dtypes: float64(11), int64(1)\n",
      "memory usage: 150.0 KB\n"
     ]
    },
    {
     "data": {
      "text/html": [
       "<style type=\"text/css\">\n",
       "#T_9d180_row0_col0, #T_9d180_row0_col2, #T_9d180_row0_col3, #T_9d180_row0_col5, #T_9d180_row0_col6, #T_9d180_row0_col9, #T_9d180_row0_col10, #T_9d180_row0_col11, #T_9d180_row1_col2, #T_9d180_row1_col7, #T_9d180_row1_col11, #T_9d180_row2_col11, #T_9d180_row3_col1, #T_9d180_row3_col3, #T_9d180_row3_col4, #T_9d180_row3_col8, #T_9d180_row4_col0, #T_9d180_row4_col2, #T_9d180_row4_col3, #T_9d180_row4_col5, #T_9d180_row4_col6, #T_9d180_row4_col9, #T_9d180_row4_col10, #T_9d180_row4_col11 {\n",
       "  background-color: #3f007d;\n",
       "  color: #f1f1f1;\n",
       "}\n",
       "#T_9d180_row0_col1, #T_9d180_row4_col1 {\n",
       "  background-color: #cecfe5;\n",
       "  color: #000000;\n",
       "}\n",
       "#T_9d180_row0_col4, #T_9d180_row4_col4 {\n",
       "  background-color: #460d83;\n",
       "  color: #f1f1f1;\n",
       "}\n",
       "#T_9d180_row0_col7, #T_9d180_row4_col7 {\n",
       "  background-color: #e8e7f2;\n",
       "  color: #000000;\n",
       "}\n",
       "#T_9d180_row0_col8, #T_9d180_row1_col1, #T_9d180_row1_col3, #T_9d180_row1_col4, #T_9d180_row1_col5, #T_9d180_row1_col6, #T_9d180_row1_col9, #T_9d180_row1_col10, #T_9d180_row2_col10, #T_9d180_row3_col0, #T_9d180_row3_col2, #T_9d180_row3_col7, #T_9d180_row3_col10, #T_9d180_row3_col11, #T_9d180_row4_col8 {\n",
       "  background-color: #fcfbfd;\n",
       "  color: #000000;\n",
       "}\n",
       "#T_9d180_row1_col0, #T_9d180_row2_col0 {\n",
       "  background-color: #50208c;\n",
       "  color: #f1f1f1;\n",
       "}\n",
       "#T_9d180_row1_col8 {\n",
       "  background-color: #52238d;\n",
       "  color: #f1f1f1;\n",
       "}\n",
       "#T_9d180_row2_col1 {\n",
       "  background-color: #e2e2ef;\n",
       "  color: #000000;\n",
       "}\n",
       "#T_9d180_row2_col2 {\n",
       "  background-color: #4b1687;\n",
       "  color: #f1f1f1;\n",
       "}\n",
       "#T_9d180_row2_col3 {\n",
       "  background-color: #afaed4;\n",
       "  color: #000000;\n",
       "}\n",
       "#T_9d180_row2_col4 {\n",
       "  background-color: #d8d8ea;\n",
       "  color: #000000;\n",
       "}\n",
       "#T_9d180_row2_col5, #T_9d180_row2_col8 {\n",
       "  background-color: #705eaa;\n",
       "  color: #f1f1f1;\n",
       "}\n",
       "#T_9d180_row2_col6 {\n",
       "  background-color: #b8b8d9;\n",
       "  color: #000000;\n",
       "}\n",
       "#T_9d180_row2_col7, #T_9d180_row3_col9 {\n",
       "  background-color: #5b3495;\n",
       "  color: #f1f1f1;\n",
       "}\n",
       "#T_9d180_row2_col9 {\n",
       "  background-color: #dadaeb;\n",
       "  color: #000000;\n",
       "}\n",
       "#T_9d180_row3_col5 {\n",
       "  background-color: #8d89c0;\n",
       "  color: #f1f1f1;\n",
       "}\n",
       "#T_9d180_row3_col6 {\n",
       "  background-color: #e0e0ee;\n",
       "  color: #000000;\n",
       "}\n",
       "</style>\n",
       "<table id=\"T_9d180\">\n",
       "  <thead>\n",
       "    <tr>\n",
       "      <th class=\"blank level0\" >&nbsp;</th>\n",
       "      <th id=\"T_9d180_level0_col0\" class=\"col_heading level0 col0\" >fixed acidity</th>\n",
       "      <th id=\"T_9d180_level0_col1\" class=\"col_heading level0 col1\" >volatile acidity</th>\n",
       "      <th id=\"T_9d180_level0_col2\" class=\"col_heading level0 col2\" >citric acid</th>\n",
       "      <th id=\"T_9d180_level0_col3\" class=\"col_heading level0 col3\" >residual sugar</th>\n",
       "      <th id=\"T_9d180_level0_col4\" class=\"col_heading level0 col4\" >chlorides</th>\n",
       "      <th id=\"T_9d180_level0_col5\" class=\"col_heading level0 col5\" >free sulfur dioxide</th>\n",
       "      <th id=\"T_9d180_level0_col6\" class=\"col_heading level0 col6\" >total sulfur dioxide</th>\n",
       "      <th id=\"T_9d180_level0_col7\" class=\"col_heading level0 col7\" >density</th>\n",
       "      <th id=\"T_9d180_level0_col8\" class=\"col_heading level0 col8\" >pH</th>\n",
       "      <th id=\"T_9d180_level0_col9\" class=\"col_heading level0 col9\" >sulphates</th>\n",
       "      <th id=\"T_9d180_level0_col10\" class=\"col_heading level0 col10\" >alcohol</th>\n",
       "      <th id=\"T_9d180_level0_col11\" class=\"col_heading level0 col11\" >quality</th>\n",
       "    </tr>\n",
       "  </thead>\n",
       "  <tbody>\n",
       "    <tr>\n",
       "      <th id=\"T_9d180_level0_row0\" class=\"row_heading level0 row0\" >0</th>\n",
       "      <td id=\"T_9d180_row0_col0\" class=\"data row0 col0\" >7.400000</td>\n",
       "      <td id=\"T_9d180_row0_col1\" class=\"data row0 col1\" >0.700000</td>\n",
       "      <td id=\"T_9d180_row0_col2\" class=\"data row0 col2\" >0.000000</td>\n",
       "      <td id=\"T_9d180_row0_col3\" class=\"data row0 col3\" >1.900000</td>\n",
       "      <td id=\"T_9d180_row0_col4\" class=\"data row0 col4\" >0.076000</td>\n",
       "      <td id=\"T_9d180_row0_col5\" class=\"data row0 col5\" >11.000000</td>\n",
       "      <td id=\"T_9d180_row0_col6\" class=\"data row0 col6\" >34.000000</td>\n",
       "      <td id=\"T_9d180_row0_col7\" class=\"data row0 col7\" >0.997800</td>\n",
       "      <td id=\"T_9d180_row0_col8\" class=\"data row0 col8\" >3.510000</td>\n",
       "      <td id=\"T_9d180_row0_col9\" class=\"data row0 col9\" >0.560000</td>\n",
       "      <td id=\"T_9d180_row0_col10\" class=\"data row0 col10\" >9.400000</td>\n",
       "      <td id=\"T_9d180_row0_col11\" class=\"data row0 col11\" >5</td>\n",
       "    </tr>\n",
       "    <tr>\n",
       "      <th id=\"T_9d180_level0_row1\" class=\"row_heading level0 row1\" >1</th>\n",
       "      <td id=\"T_9d180_row1_col0\" class=\"data row1 col0\" >7.800000</td>\n",
       "      <td id=\"T_9d180_row1_col1\" class=\"data row1 col1\" >0.880000</td>\n",
       "      <td id=\"T_9d180_row1_col2\" class=\"data row1 col2\" >0.000000</td>\n",
       "      <td id=\"T_9d180_row1_col3\" class=\"data row1 col3\" >2.600000</td>\n",
       "      <td id=\"T_9d180_row1_col4\" class=\"data row1 col4\" >0.098000</td>\n",
       "      <td id=\"T_9d180_row1_col5\" class=\"data row1 col5\" >25.000000</td>\n",
       "      <td id=\"T_9d180_row1_col6\" class=\"data row1 col6\" >67.000000</td>\n",
       "      <td id=\"T_9d180_row1_col7\" class=\"data row1 col7\" >0.996800</td>\n",
       "      <td id=\"T_9d180_row1_col8\" class=\"data row1 col8\" >3.200000</td>\n",
       "      <td id=\"T_9d180_row1_col9\" class=\"data row1 col9\" >0.680000</td>\n",
       "      <td id=\"T_9d180_row1_col10\" class=\"data row1 col10\" >9.800000</td>\n",
       "      <td id=\"T_9d180_row1_col11\" class=\"data row1 col11\" >5</td>\n",
       "    </tr>\n",
       "    <tr>\n",
       "      <th id=\"T_9d180_level0_row2\" class=\"row_heading level0 row2\" >2</th>\n",
       "      <td id=\"T_9d180_row2_col0\" class=\"data row2 col0\" >7.800000</td>\n",
       "      <td id=\"T_9d180_row2_col1\" class=\"data row2 col1\" >0.760000</td>\n",
       "      <td id=\"T_9d180_row2_col2\" class=\"data row2 col2\" >0.040000</td>\n",
       "      <td id=\"T_9d180_row2_col3\" class=\"data row2 col3\" >2.300000</td>\n",
       "      <td id=\"T_9d180_row2_col4\" class=\"data row2 col4\" >0.092000</td>\n",
       "      <td id=\"T_9d180_row2_col5\" class=\"data row2 col5\" >15.000000</td>\n",
       "      <td id=\"T_9d180_row2_col6\" class=\"data row2 col6\" >54.000000</td>\n",
       "      <td id=\"T_9d180_row2_col7\" class=\"data row2 col7\" >0.997000</td>\n",
       "      <td id=\"T_9d180_row2_col8\" class=\"data row2 col8\" >3.260000</td>\n",
       "      <td id=\"T_9d180_row2_col9\" class=\"data row2 col9\" >0.650000</td>\n",
       "      <td id=\"T_9d180_row2_col10\" class=\"data row2 col10\" >9.800000</td>\n",
       "      <td id=\"T_9d180_row2_col11\" class=\"data row2 col11\" >5</td>\n",
       "    </tr>\n",
       "    <tr>\n",
       "      <th id=\"T_9d180_level0_row3\" class=\"row_heading level0 row3\" >3</th>\n",
       "      <td id=\"T_9d180_row3_col0\" class=\"data row3 col0\" >11.200000</td>\n",
       "      <td id=\"T_9d180_row3_col1\" class=\"data row3 col1\" >0.280000</td>\n",
       "      <td id=\"T_9d180_row3_col2\" class=\"data row3 col2\" >0.560000</td>\n",
       "      <td id=\"T_9d180_row3_col3\" class=\"data row3 col3\" >1.900000</td>\n",
       "      <td id=\"T_9d180_row3_col4\" class=\"data row3 col4\" >0.075000</td>\n",
       "      <td id=\"T_9d180_row3_col5\" class=\"data row3 col5\" >17.000000</td>\n",
       "      <td id=\"T_9d180_row3_col6\" class=\"data row3 col6\" >60.000000</td>\n",
       "      <td id=\"T_9d180_row3_col7\" class=\"data row3 col7\" >0.998000</td>\n",
       "      <td id=\"T_9d180_row3_col8\" class=\"data row3 col8\" >3.160000</td>\n",
       "      <td id=\"T_9d180_row3_col9\" class=\"data row3 col9\" >0.580000</td>\n",
       "      <td id=\"T_9d180_row3_col10\" class=\"data row3 col10\" >9.800000</td>\n",
       "      <td id=\"T_9d180_row3_col11\" class=\"data row3 col11\" >6</td>\n",
       "    </tr>\n",
       "    <tr>\n",
       "      <th id=\"T_9d180_level0_row4\" class=\"row_heading level0 row4\" >4</th>\n",
       "      <td id=\"T_9d180_row4_col0\" class=\"data row4 col0\" >7.400000</td>\n",
       "      <td id=\"T_9d180_row4_col1\" class=\"data row4 col1\" >0.700000</td>\n",
       "      <td id=\"T_9d180_row4_col2\" class=\"data row4 col2\" >0.000000</td>\n",
       "      <td id=\"T_9d180_row4_col3\" class=\"data row4 col3\" >1.900000</td>\n",
       "      <td id=\"T_9d180_row4_col4\" class=\"data row4 col4\" >0.076000</td>\n",
       "      <td id=\"T_9d180_row4_col5\" class=\"data row4 col5\" >11.000000</td>\n",
       "      <td id=\"T_9d180_row4_col6\" class=\"data row4 col6\" >34.000000</td>\n",
       "      <td id=\"T_9d180_row4_col7\" class=\"data row4 col7\" >0.997800</td>\n",
       "      <td id=\"T_9d180_row4_col8\" class=\"data row4 col8\" >3.510000</td>\n",
       "      <td id=\"T_9d180_row4_col9\" class=\"data row4 col9\" >0.560000</td>\n",
       "      <td id=\"T_9d180_row4_col10\" class=\"data row4 col10\" >9.400000</td>\n",
       "      <td id=\"T_9d180_row4_col11\" class=\"data row4 col11\" >5</td>\n",
       "    </tr>\n",
       "  </tbody>\n",
       "</table>\n"
      ],
      "text/plain": [
       "<pandas.io.formats.style.Styler at 0x20520136cd0>"
      ]
     },
     "execution_count": 4,
     "metadata": {},
     "output_type": "execute_result"
    }
   ],
   "source": [
    "# Display structure and first few rows\n",
    "df.info()\n",
    "df.head().style.background_gradient(cmap = \"Purples_r\")"
   ]
  },
  {
   "cell_type": "markdown",
   "id": "1e9034a4",
   "metadata": {},
   "source": [
    "### 1.2 | Descriptive Statistics of Numeric Variables"
   ]
  },
  {
   "cell_type": "code",
   "execution_count": 5,
   "id": "5dd20cbe",
   "metadata": {},
   "outputs": [
    {
     "data": {
      "text/html": [
       "<style type=\"text/css\">\n",
       "#T_58eb2_row0_col0, #T_58eb2_row1_col0, #T_58eb2_row1_col7, #T_58eb2_row2_col0, #T_58eb2_row2_col3, #T_58eb2_row2_col4, #T_58eb2_row2_col7, #T_58eb2_row3_col0, #T_58eb2_row4_col0, #T_58eb2_row4_col1, #T_58eb2_row4_col2, #T_58eb2_row4_col3, #T_58eb2_row4_col4, #T_58eb2_row4_col5, #T_58eb2_row4_col6, #T_58eb2_row4_col7, #T_58eb2_row5_col0, #T_58eb2_row6_col0, #T_58eb2_row7_col0, #T_58eb2_row7_col2, #T_58eb2_row7_col7, #T_58eb2_row8_col0, #T_58eb2_row9_col0, #T_58eb2_row10_col0, #T_58eb2_row11_col0 {\n",
       "  background-color: #000004;\n",
       "  color: #f1f1f1;\n",
       "}\n",
       "#T_58eb2_row0_col1, #T_58eb2_row10_col6 {\n",
       "  background-color: #311165;\n",
       "  color: #f1f1f1;\n",
       "}\n",
       "#T_58eb2_row0_col2, #T_58eb2_row0_col7, #T_58eb2_row3_col1, #T_58eb2_row3_col7, #T_58eb2_row8_col6 {\n",
       "  background-color: #07061c;\n",
       "  color: #f1f1f1;\n",
       "}\n",
       "#T_58eb2_row0_col3 {\n",
       "  background-color: #ca3e72;\n",
       "  color: #f1f1f1;\n",
       "}\n",
       "#T_58eb2_row0_col4 {\n",
       "  background-color: #6d1d81;\n",
       "  color: #f1f1f1;\n",
       "}\n",
       "#T_58eb2_row0_col5 {\n",
       "  background-color: #3d0f71;\n",
       "  color: #f1f1f1;\n",
       "}\n",
       "#T_58eb2_row0_col6 {\n",
       "  background-color: #241253;\n",
       "  color: #f1f1f1;\n",
       "}\n",
       "#T_58eb2_row1_col1, #T_58eb2_row1_col5, #T_58eb2_row1_col6, #T_58eb2_row9_col6 {\n",
       "  background-color: #010106;\n",
       "  color: #f1f1f1;\n",
       "}\n",
       "#T_58eb2_row1_col2, #T_58eb2_row2_col1, #T_58eb2_row2_col2, #T_58eb2_row2_col5, #T_58eb2_row2_col6, #T_58eb2_row8_col2, #T_58eb2_row9_col2, #T_58eb2_row9_col7 {\n",
       "  background-color: #010005;\n",
       "  color: #f1f1f1;\n",
       "}\n",
       "#T_58eb2_row1_col3, #T_58eb2_row1_col4, #T_58eb2_row7_col6, #T_58eb2_row8_col7, #T_58eb2_row9_col1, #T_58eb2_row9_col5 {\n",
       "  background-color: #010108;\n",
       "  color: #f1f1f1;\n",
       "}\n",
       "#T_58eb2_row3_col2, #T_58eb2_row3_col6, #T_58eb2_row7_col4, #T_58eb2_row9_col3 {\n",
       "  background-color: #050416;\n",
       "  color: #f1f1f1;\n",
       "}\n",
       "#T_58eb2_row3_col3 {\n",
       "  background-color: #160f3b;\n",
       "  color: #f1f1f1;\n",
       "}\n",
       "#T_58eb2_row3_col4, #T_58eb2_row8_col5 {\n",
       "  background-color: #100b2d;\n",
       "  color: #f1f1f1;\n",
       "}\n",
       "#T_58eb2_row3_col5 {\n",
       "  background-color: #08071e;\n",
       "  color: #f1f1f1;\n",
       "}\n",
       "#T_58eb2_row5_col1 {\n",
       "  background-color: #752181;\n",
       "  color: #f1f1f1;\n",
       "}\n",
       "#T_58eb2_row5_col2 {\n",
       "  background-color: #6b1d81;\n",
       "  color: #f1f1f1;\n",
       "}\n",
       "#T_58eb2_row5_col3, #T_58eb2_row7_col3, #T_58eb2_row11_col1 {\n",
       "  background-color: #1a1042;\n",
       "  color: #f1f1f1;\n",
       "}\n",
       "#T_58eb2_row5_col4 {\n",
       "  background-color: #6a1c81;\n",
       "  color: #f1f1f1;\n",
       "}\n",
       "#T_58eb2_row5_col5 {\n",
       "  background-color: #7e2482;\n",
       "  color: #f1f1f1;\n",
       "}\n",
       "#T_58eb2_row5_col6 {\n",
       "  background-color: #732081;\n",
       "  color: #f1f1f1;\n",
       "}\n",
       "#T_58eb2_row5_col7 {\n",
       "  background-color: #4f127b;\n",
       "  color: #f1f1f1;\n",
       "}\n",
       "#T_58eb2_row6_col1, #T_58eb2_row6_col2, #T_58eb2_row6_col4, #T_58eb2_row6_col5, #T_58eb2_row6_col6, #T_58eb2_row6_col7, #T_58eb2_row10_col3 {\n",
       "  background-color: #fcfdbf;\n",
       "  color: #000000;\n",
       "}\n",
       "#T_58eb2_row6_col3 {\n",
       "  background-color: #f8765c;\n",
       "  color: #f1f1f1;\n",
       "}\n",
       "#T_58eb2_row7_col1, #T_58eb2_row9_col4 {\n",
       "  background-color: #02020b;\n",
       "  color: #f1f1f1;\n",
       "}\n",
       "#T_58eb2_row7_col5, #T_58eb2_row11_col2, #T_58eb2_row11_col7 {\n",
       "  background-color: #02020d;\n",
       "  color: #f1f1f1;\n",
       "}\n",
       "#T_58eb2_row8_col1 {\n",
       "  background-color: #0b0924;\n",
       "  color: #f1f1f1;\n",
       "}\n",
       "#T_58eb2_row8_col3 {\n",
       "  background-color: #6e1e81;\n",
       "  color: #f1f1f1;\n",
       "}\n",
       "#T_58eb2_row8_col4 {\n",
       "  background-color: #221150;\n",
       "  color: #f1f1f1;\n",
       "}\n",
       "#T_58eb2_row10_col1, #T_58eb2_row11_col4 {\n",
       "  background-color: #451077;\n",
       "  color: #f1f1f1;\n",
       "}\n",
       "#T_58eb2_row10_col2 {\n",
       "  background-color: #030312;\n",
       "  color: #f1f1f1;\n",
       "}\n",
       "#T_58eb2_row10_col4 {\n",
       "  background-color: #992d80;\n",
       "  color: #f1f1f1;\n",
       "}\n",
       "#T_58eb2_row10_col5 {\n",
       "  background-color: #57157e;\n",
       "  color: #f1f1f1;\n",
       "}\n",
       "#T_58eb2_row10_col7 {\n",
       "  background-color: #06051a;\n",
       "  color: #f1f1f1;\n",
       "}\n",
       "#T_58eb2_row11_col3 {\n",
       "  background-color: #7b2382;\n",
       "  color: #f1f1f1;\n",
       "}\n",
       "#T_58eb2_row11_col5 {\n",
       "  background-color: #271258;\n",
       "  color: #f1f1f1;\n",
       "}\n",
       "#T_58eb2_row11_col6 {\n",
       "  background-color: #130d34;\n",
       "  color: #f1f1f1;\n",
       "}\n",
       "</style>\n",
       "<table id=\"T_58eb2\">\n",
       "  <thead>\n",
       "    <tr>\n",
       "      <th class=\"blank level0\" >&nbsp;</th>\n",
       "      <th id=\"T_58eb2_level0_col0\" class=\"col_heading level0 col0\" >count</th>\n",
       "      <th id=\"T_58eb2_level0_col1\" class=\"col_heading level0 col1\" >mean</th>\n",
       "      <th id=\"T_58eb2_level0_col2\" class=\"col_heading level0 col2\" >std</th>\n",
       "      <th id=\"T_58eb2_level0_col3\" class=\"col_heading level0 col3\" >min</th>\n",
       "      <th id=\"T_58eb2_level0_col4\" class=\"col_heading level0 col4\" >25%</th>\n",
       "      <th id=\"T_58eb2_level0_col5\" class=\"col_heading level0 col5\" >50%</th>\n",
       "      <th id=\"T_58eb2_level0_col6\" class=\"col_heading level0 col6\" >75%</th>\n",
       "      <th id=\"T_58eb2_level0_col7\" class=\"col_heading level0 col7\" >max</th>\n",
       "    </tr>\n",
       "  </thead>\n",
       "  <tbody>\n",
       "    <tr>\n",
       "      <th id=\"T_58eb2_level0_row0\" class=\"row_heading level0 row0\" >fixed acidity</th>\n",
       "      <td id=\"T_58eb2_row0_col0\" class=\"data row0 col0\" >1599.000000</td>\n",
       "      <td id=\"T_58eb2_row0_col1\" class=\"data row0 col1\" >8.319637</td>\n",
       "      <td id=\"T_58eb2_row0_col2\" class=\"data row0 col2\" >1.741096</td>\n",
       "      <td id=\"T_58eb2_row0_col3\" class=\"data row0 col3\" >4.600000</td>\n",
       "      <td id=\"T_58eb2_row0_col4\" class=\"data row0 col4\" >7.100000</td>\n",
       "      <td id=\"T_58eb2_row0_col5\" class=\"data row0 col5\" >7.900000</td>\n",
       "      <td id=\"T_58eb2_row0_col6\" class=\"data row0 col6\" >9.200000</td>\n",
       "      <td id=\"T_58eb2_row0_col7\" class=\"data row0 col7\" >15.900000</td>\n",
       "    </tr>\n",
       "    <tr>\n",
       "      <th id=\"T_58eb2_level0_row1\" class=\"row_heading level0 row1\" >volatile acidity</th>\n",
       "      <td id=\"T_58eb2_row1_col0\" class=\"data row1 col0\" >1599.000000</td>\n",
       "      <td id=\"T_58eb2_row1_col1\" class=\"data row1 col1\" >0.527821</td>\n",
       "      <td id=\"T_58eb2_row1_col2\" class=\"data row1 col2\" >0.179060</td>\n",
       "      <td id=\"T_58eb2_row1_col3\" class=\"data row1 col3\" >0.120000</td>\n",
       "      <td id=\"T_58eb2_row1_col4\" class=\"data row1 col4\" >0.390000</td>\n",
       "      <td id=\"T_58eb2_row1_col5\" class=\"data row1 col5\" >0.520000</td>\n",
       "      <td id=\"T_58eb2_row1_col6\" class=\"data row1 col6\" >0.640000</td>\n",
       "      <td id=\"T_58eb2_row1_col7\" class=\"data row1 col7\" >1.580000</td>\n",
       "    </tr>\n",
       "    <tr>\n",
       "      <th id=\"T_58eb2_level0_row2\" class=\"row_heading level0 row2\" >citric acid</th>\n",
       "      <td id=\"T_58eb2_row2_col0\" class=\"data row2 col0\" >1599.000000</td>\n",
       "      <td id=\"T_58eb2_row2_col1\" class=\"data row2 col1\" >0.270976</td>\n",
       "      <td id=\"T_58eb2_row2_col2\" class=\"data row2 col2\" >0.194801</td>\n",
       "      <td id=\"T_58eb2_row2_col3\" class=\"data row2 col3\" >0.000000</td>\n",
       "      <td id=\"T_58eb2_row2_col4\" class=\"data row2 col4\" >0.090000</td>\n",
       "      <td id=\"T_58eb2_row2_col5\" class=\"data row2 col5\" >0.260000</td>\n",
       "      <td id=\"T_58eb2_row2_col6\" class=\"data row2 col6\" >0.420000</td>\n",
       "      <td id=\"T_58eb2_row2_col7\" class=\"data row2 col7\" >1.000000</td>\n",
       "    </tr>\n",
       "    <tr>\n",
       "      <th id=\"T_58eb2_level0_row3\" class=\"row_heading level0 row3\" >residual sugar</th>\n",
       "      <td id=\"T_58eb2_row3_col0\" class=\"data row3 col0\" >1599.000000</td>\n",
       "      <td id=\"T_58eb2_row3_col1\" class=\"data row3 col1\" >2.538806</td>\n",
       "      <td id=\"T_58eb2_row3_col2\" class=\"data row3 col2\" >1.409928</td>\n",
       "      <td id=\"T_58eb2_row3_col3\" class=\"data row3 col3\" >0.900000</td>\n",
       "      <td id=\"T_58eb2_row3_col4\" class=\"data row3 col4\" >1.900000</td>\n",
       "      <td id=\"T_58eb2_row3_col5\" class=\"data row3 col5\" >2.200000</td>\n",
       "      <td id=\"T_58eb2_row3_col6\" class=\"data row3 col6\" >2.600000</td>\n",
       "      <td id=\"T_58eb2_row3_col7\" class=\"data row3 col7\" >15.500000</td>\n",
       "    </tr>\n",
       "    <tr>\n",
       "      <th id=\"T_58eb2_level0_row4\" class=\"row_heading level0 row4\" >chlorides</th>\n",
       "      <td id=\"T_58eb2_row4_col0\" class=\"data row4 col0\" >1599.000000</td>\n",
       "      <td id=\"T_58eb2_row4_col1\" class=\"data row4 col1\" >0.087467</td>\n",
       "      <td id=\"T_58eb2_row4_col2\" class=\"data row4 col2\" >0.047065</td>\n",
       "      <td id=\"T_58eb2_row4_col3\" class=\"data row4 col3\" >0.012000</td>\n",
       "      <td id=\"T_58eb2_row4_col4\" class=\"data row4 col4\" >0.070000</td>\n",
       "      <td id=\"T_58eb2_row4_col5\" class=\"data row4 col5\" >0.079000</td>\n",
       "      <td id=\"T_58eb2_row4_col6\" class=\"data row4 col6\" >0.090000</td>\n",
       "      <td id=\"T_58eb2_row4_col7\" class=\"data row4 col7\" >0.611000</td>\n",
       "    </tr>\n",
       "    <tr>\n",
       "      <th id=\"T_58eb2_level0_row5\" class=\"row_heading level0 row5\" >free sulfur dioxide</th>\n",
       "      <td id=\"T_58eb2_row5_col0\" class=\"data row5 col0\" >1599.000000</td>\n",
       "      <td id=\"T_58eb2_row5_col1\" class=\"data row5 col1\" >15.874922</td>\n",
       "      <td id=\"T_58eb2_row5_col2\" class=\"data row5 col2\" >10.460157</td>\n",
       "      <td id=\"T_58eb2_row5_col3\" class=\"data row5 col3\" >1.000000</td>\n",
       "      <td id=\"T_58eb2_row5_col4\" class=\"data row5 col4\" >7.000000</td>\n",
       "      <td id=\"T_58eb2_row5_col5\" class=\"data row5 col5\" >14.000000</td>\n",
       "      <td id=\"T_58eb2_row5_col6\" class=\"data row5 col6\" >21.000000</td>\n",
       "      <td id=\"T_58eb2_row5_col7\" class=\"data row5 col7\" >72.000000</td>\n",
       "    </tr>\n",
       "    <tr>\n",
       "      <th id=\"T_58eb2_level0_row6\" class=\"row_heading level0 row6\" >total sulfur dioxide</th>\n",
       "      <td id=\"T_58eb2_row6_col0\" class=\"data row6 col0\" >1599.000000</td>\n",
       "      <td id=\"T_58eb2_row6_col1\" class=\"data row6 col1\" >46.467792</td>\n",
       "      <td id=\"T_58eb2_row6_col2\" class=\"data row6 col2\" >32.895324</td>\n",
       "      <td id=\"T_58eb2_row6_col3\" class=\"data row6 col3\" >6.000000</td>\n",
       "      <td id=\"T_58eb2_row6_col4\" class=\"data row6 col4\" >22.000000</td>\n",
       "      <td id=\"T_58eb2_row6_col5\" class=\"data row6 col5\" >38.000000</td>\n",
       "      <td id=\"T_58eb2_row6_col6\" class=\"data row6 col6\" >62.000000</td>\n",
       "      <td id=\"T_58eb2_row6_col7\" class=\"data row6 col7\" >289.000000</td>\n",
       "    </tr>\n",
       "    <tr>\n",
       "      <th id=\"T_58eb2_level0_row7\" class=\"row_heading level0 row7\" >density</th>\n",
       "      <td id=\"T_58eb2_row7_col0\" class=\"data row7 col0\" >1599.000000</td>\n",
       "      <td id=\"T_58eb2_row7_col1\" class=\"data row7 col1\" >0.996747</td>\n",
       "      <td id=\"T_58eb2_row7_col2\" class=\"data row7 col2\" >0.001887</td>\n",
       "      <td id=\"T_58eb2_row7_col3\" class=\"data row7 col3\" >0.990070</td>\n",
       "      <td id=\"T_58eb2_row7_col4\" class=\"data row7 col4\" >0.995600</td>\n",
       "      <td id=\"T_58eb2_row7_col5\" class=\"data row7 col5\" >0.996750</td>\n",
       "      <td id=\"T_58eb2_row7_col6\" class=\"data row7 col6\" >0.997835</td>\n",
       "      <td id=\"T_58eb2_row7_col7\" class=\"data row7 col7\" >1.003690</td>\n",
       "    </tr>\n",
       "    <tr>\n",
       "      <th id=\"T_58eb2_level0_row8\" class=\"row_heading level0 row8\" >pH</th>\n",
       "      <td id=\"T_58eb2_row8_col0\" class=\"data row8 col0\" >1599.000000</td>\n",
       "      <td id=\"T_58eb2_row8_col1\" class=\"data row8 col1\" >3.311113</td>\n",
       "      <td id=\"T_58eb2_row8_col2\" class=\"data row8 col2\" >0.154386</td>\n",
       "      <td id=\"T_58eb2_row8_col3\" class=\"data row8 col3\" >2.740000</td>\n",
       "      <td id=\"T_58eb2_row8_col4\" class=\"data row8 col4\" >3.210000</td>\n",
       "      <td id=\"T_58eb2_row8_col5\" class=\"data row8 col5\" >3.310000</td>\n",
       "      <td id=\"T_58eb2_row8_col6\" class=\"data row8 col6\" >3.400000</td>\n",
       "      <td id=\"T_58eb2_row8_col7\" class=\"data row8 col7\" >4.010000</td>\n",
       "    </tr>\n",
       "    <tr>\n",
       "      <th id=\"T_58eb2_level0_row9\" class=\"row_heading level0 row9\" >sulphates</th>\n",
       "      <td id=\"T_58eb2_row9_col0\" class=\"data row9 col0\" >1599.000000</td>\n",
       "      <td id=\"T_58eb2_row9_col1\" class=\"data row9 col1\" >0.658149</td>\n",
       "      <td id=\"T_58eb2_row9_col2\" class=\"data row9 col2\" >0.169507</td>\n",
       "      <td id=\"T_58eb2_row9_col3\" class=\"data row9 col3\" >0.330000</td>\n",
       "      <td id=\"T_58eb2_row9_col4\" class=\"data row9 col4\" >0.550000</td>\n",
       "      <td id=\"T_58eb2_row9_col5\" class=\"data row9 col5\" >0.620000</td>\n",
       "      <td id=\"T_58eb2_row9_col6\" class=\"data row9 col6\" >0.730000</td>\n",
       "      <td id=\"T_58eb2_row9_col7\" class=\"data row9 col7\" >2.000000</td>\n",
       "    </tr>\n",
       "    <tr>\n",
       "      <th id=\"T_58eb2_level0_row10\" class=\"row_heading level0 row10\" >alcohol</th>\n",
       "      <td id=\"T_58eb2_row10_col0\" class=\"data row10 col0\" >1599.000000</td>\n",
       "      <td id=\"T_58eb2_row10_col1\" class=\"data row10 col1\" >10.422983</td>\n",
       "      <td id=\"T_58eb2_row10_col2\" class=\"data row10 col2\" >1.065668</td>\n",
       "      <td id=\"T_58eb2_row10_col3\" class=\"data row10 col3\" >8.400000</td>\n",
       "      <td id=\"T_58eb2_row10_col4\" class=\"data row10 col4\" >9.500000</td>\n",
       "      <td id=\"T_58eb2_row10_col5\" class=\"data row10 col5\" >10.200000</td>\n",
       "      <td id=\"T_58eb2_row10_col6\" class=\"data row10 col6\" >11.100000</td>\n",
       "      <td id=\"T_58eb2_row10_col7\" class=\"data row10 col7\" >14.900000</td>\n",
       "    </tr>\n",
       "    <tr>\n",
       "      <th id=\"T_58eb2_level0_row11\" class=\"row_heading level0 row11\" >quality</th>\n",
       "      <td id=\"T_58eb2_row11_col0\" class=\"data row11 col0\" >1599.000000</td>\n",
       "      <td id=\"T_58eb2_row11_col1\" class=\"data row11 col1\" >5.636023</td>\n",
       "      <td id=\"T_58eb2_row11_col2\" class=\"data row11 col2\" >0.807569</td>\n",
       "      <td id=\"T_58eb2_row11_col3\" class=\"data row11 col3\" >3.000000</td>\n",
       "      <td id=\"T_58eb2_row11_col4\" class=\"data row11 col4\" >5.000000</td>\n",
       "      <td id=\"T_58eb2_row11_col5\" class=\"data row11 col5\" >6.000000</td>\n",
       "      <td id=\"T_58eb2_row11_col6\" class=\"data row11 col6\" >6.000000</td>\n",
       "      <td id=\"T_58eb2_row11_col7\" class=\"data row11 col7\" >8.000000</td>\n",
       "    </tr>\n",
       "  </tbody>\n",
       "</table>\n"
      ],
      "text/plain": [
       "<pandas.io.formats.style.Styler at 0x2050e291250>"
      ]
     },
     "execution_count": 5,
     "metadata": {},
     "output_type": "execute_result"
    }
   ],
   "source": [
    "df.describe().T.style.background_gradient(cmap = \"magma\")"
   ]
  },
  {
   "cell_type": "markdown",
   "id": "9fa6ad79",
   "metadata": {},
   "source": [
    "## Section 2. Prepare the Data"
   ]
  },
  {
   "cell_type": "markdown",
   "id": "ffdc550a",
   "metadata": {},
   "source": [
    "Includes cleaning, feature engineering, encoding, splitting, helper functions"
   ]
  },
  {
   "cell_type": "code",
   "execution_count": 6,
   "id": "2a4a2880",
   "metadata": {},
   "outputs": [],
   "source": [
    "# Define helper function that:\n",
    "\n",
    "# Takes one input, the quality (which we will temporarily name q while in the function)\n",
    "# And returns a string of the quality label (low, medium, high)\n",
    "# This function will be used to create the quality_label column\n",
    "def quality_to_label(q):\n",
    "    if q <= 4:\n",
    "        return \"low\"\n",
    "    elif q <= 6:\n",
    "        return \"medium\"\n",
    "    else:\n",
    "        return \"high\""
   ]
  },
  {
   "cell_type": "code",
   "execution_count": 7,
   "id": "4b8d5181",
   "metadata": {},
   "outputs": [],
   "source": [
    "# Call the apply() method on the quality column to create the new quality_label column\n",
    "df[\"quality_label\"] = df[\"quality\"].apply(quality_to_label)"
   ]
  },
  {
   "cell_type": "code",
   "execution_count": 8,
   "id": "34d8540c",
   "metadata": {},
   "outputs": [],
   "source": [
    "def quality_to_number(q):\n",
    "    if q <= 4:\n",
    "        return 0\n",
    "    elif q <= 6:\n",
    "        return 1\n",
    "    else:\n",
    "        return 2\n"
   ]
  },
  {
   "cell_type": "code",
   "execution_count": 9,
   "id": "b9d25010",
   "metadata": {},
   "outputs": [],
   "source": [
    "df[\"quality_numeric\"] = df[\"quality\"].apply(quality_to_number)"
   ]
  },
  {
   "cell_type": "code",
   "execution_count": 10,
   "id": "06599469",
   "metadata": {},
   "outputs": [
    {
     "data": {
      "text/plain": [
       "quality_numeric\n",
       "0      63\n",
       "1    1319\n",
       "2     217\n",
       "Name: count, dtype: int64"
      ]
     },
     "execution_count": 10,
     "metadata": {},
     "output_type": "execute_result"
    }
   ],
   "source": [
    "df[\"quality_numeric\"].value_counts().sort_index()\n"
   ]
  },
  {
   "cell_type": "code",
   "execution_count": 11,
   "id": "62e680e9",
   "metadata": {},
   "outputs": [
    {
     "name": "stdout",
     "output_type": "stream",
     "text": [
      "\n",
      "Updated Dataset Sample:\n",
      "   quality quality_label  quality_numeric\n",
      "0        5        medium                1\n",
      "1        5        medium                1\n",
      "2        5        medium                1\n",
      "3        6        medium                1\n",
      "4        5        medium                1\n"
     ]
    }
   ],
   "source": [
    "# Display updated DataFrame\n",
    "print(\"\\nUpdated Dataset Sample:\")\n",
    "print(df[[\"quality\", \"quality_label\", \"quality_numeric\"]].head())"
   ]
  },
  {
   "cell_type": "markdown",
   "id": "e4c1bf4b",
   "metadata": {},
   "source": [
    "### What This Does:\n",
    "This line creates a new column in the DataFrame called quality_numeric.\n",
    "\n",
    "It applies the quality_to_number() function to each value in the quality column.\n",
    "\n",
    "###  Result:\n",
    "Your dataset now has a new column (quality_numeric) with values 0, 1, or 2, making it ready for model training.\n",
    "\n",
    "You can now use quality_numeric as your target variable (y) for classification models."
   ]
  },
  {
   "cell_type": "markdown",
   "id": "bf0ac5e3",
   "metadata": {},
   "source": [
    "## Section 3. Feature Selection and Justification"
   ]
  },
  {
   "cell_type": "markdown",
   "id": "ae80b17b",
   "metadata": {},
   "source": [
    "### Select Dependent and Independent Variables"
   ]
  },
  {
   "cell_type": "code",
   "execution_count": 12,
   "id": "5002c471",
   "metadata": {},
   "outputs": [],
   "source": [
    "X = df.drop(columns=[\"quality\", \"quality_label\", \"quality_numeric\"])\n"
   ]
  },
  {
   "cell_type": "code",
   "execution_count": 13,
   "id": "98450415",
   "metadata": {},
   "outputs": [],
   "source": [
    "y = df[\"quality_numeric\"]\n"
   ]
  },
  {
   "cell_type": "markdown",
   "id": "76f6b41d",
   "metadata": {},
   "source": [
    "We're using quality_numeric (0 = low, 1 = medium, 2 = high) as the target variable because:\n",
    "\n",
    "It is in a numerical format, which is what machine learning models require.\n",
    "\n",
    "It represents the transformed wine quality category, which is what we’re trying to predict."
   ]
  },
  {
   "cell_type": "markdown",
   "id": "d7f7a3c8",
   "metadata": {},
   "source": [
    "## Section 4. Split the Data into Train and Test"
   ]
  },
  {
   "cell_type": "markdown",
   "id": "1d8fae33",
   "metadata": {},
   "source": [
    "### Train/test split (stratify to preserve class balance)\n",
    "X_train, X_test, y_train, y_test = train_test_split(\n",
    "    X, y, test_size=0.2, random_state=42, stratify=y\n",
    ")"
   ]
  },
  {
   "cell_type": "code",
   "execution_count": 14,
   "id": "ed2171bb",
   "metadata": {},
   "outputs": [],
   "source": [
    "# Split the data into training and test sets\n",
    "X_train, X_test, y_train, y_test = train_test_split(\n",
    "    X, y, test_size=0.2, random_state=42, stratify=y\n",
    ")"
   ]
  },
  {
   "cell_type": "markdown",
   "id": "0e520b80",
   "metadata": {},
   "source": [
    "## Section 5: Evaluate Model Performance"
   ]
  },
  {
   "cell_type": "markdown",
   "id": "4e6b1e90",
   "metadata": {},
   "source": [
    "### Helper function\n"
   ]
  },
  {
   "cell_type": "code",
   "execution_count": 15,
   "id": "4c24f0da",
   "metadata": {},
   "outputs": [],
   "source": [
    "def evaluate_model(name, model, X_train, y_train, X_test, y_test, results):\n",
    "    model.fit(X_train, y_train)\n",
    "\n",
    "    y_train_pred = model.predict(X_train)\n",
    "    y_test_pred = model.predict(X_test)\n",
    "\n",
    "    train_acc = accuracy_score(y_train, y_train_pred)\n",
    "    test_acc = accuracy_score(y_test, y_test_pred)\n",
    "    train_f1 = f1_score(y_train, y_train_pred, average=\"weighted\")\n",
    "    test_f1 = f1_score(y_test, y_test_pred, average=\"weighted\")\n",
    "\n",
    "    print(f\"\\n{name} Results\")\n",
    "    print(\"Confusion Matrix (Test):\")\n",
    "    print(confusion_matrix(y_test, y_test_pred))\n",
    "    print(f\"Train Accuracy: {train_acc:.4f}, Test Accuracy: {test_acc:.4f}\")\n",
    "    print(f\"Train F1 Score: {train_f1:.4f}, Test F1 Score: {test_f1:.4f}\")\n",
    "\n",
    "    results.append(\n",
    "        {\n",
    "            \"Model\": name,\n",
    "            \"Train Accuracy\": train_acc,\n",
    "            \"Test Accuracy\": test_acc,\n",
    "            \"Train F1\": train_f1,\n",
    "            \"Test F1\": test_f1,\n",
    "        }\n",
    "    )"
   ]
  },
  {
   "cell_type": "code",
   "execution_count": 16,
   "id": "68666ddc",
   "metadata": {},
   "outputs": [],
   "source": [
    "results = []"
   ]
  },
  {
   "cell_type": "code",
   "execution_count": 17,
   "id": "3054df5d",
   "metadata": {},
   "outputs": [
    {
     "name": "stdout",
     "output_type": "stream",
     "text": [
      "\n",
      "AdaBoost (200, lr=0.5) Results\n",
      "Confusion Matrix (Test):\n",
      "[[  1  12   0]\n",
      " [  2 255   7]\n",
      " [  0  25  18]]\n",
      "Train Accuracy: 0.8397, Test Accuracy: 0.8562\n",
      "Train F1 Score: 0.8160, Test F1 Score: 0.8330\n"
     ]
    }
   ],
   "source": [
    "# 4. AdaBoost (200, lr=0.5) \n",
    "evaluate_model(\n",
    "    \"AdaBoost (200, lr=0.5)\",\n",
    "    AdaBoostClassifier(n_estimators=200, learning_rate=0.5, random_state=42),\n",
    "    X_train,\n",
    "    y_train,\n",
    "    X_test,\n",
    "    y_test,\n",
    "    results,\n",
    ")"
   ]
  },
  {
   "cell_type": "code",
   "execution_count": 18,
   "id": "62bebd4e",
   "metadata": {},
   "outputs": [
    {
     "name": "stdout",
     "output_type": "stream",
     "text": [
      "\n",
      "Gradient Boosting (100) Results\n",
      "Confusion Matrix (Test):\n",
      "[[  0  13   0]\n",
      " [  3 247  14]\n",
      " [  0  16  27]]\n",
      "Train Accuracy: 0.9601, Test Accuracy: 0.8562\n",
      "Train F1 Score: 0.9584, Test F1 Score: 0.8411\n"
     ]
    }
   ],
   "source": [
    "# 5. Gradient Boosting\n",
    "evaluate_model(\n",
    "    \"Gradient Boosting (100)\",\n",
    "    GradientBoostingClassifier(\n",
    "        n_estimators=100, learning_rate=0.1, max_depth=3, random_state=42\n",
    "    ),\n",
    "    X_train,\n",
    "    y_train,\n",
    "    X_test,\n",
    "    y_test,\n",
    "    results,\n",
    ")\n"
   ]
  },
  {
   "cell_type": "markdown",
   "id": "57a453ef",
   "metadata": {},
   "source": [
    "## Section 6: Compare Results"
   ]
  },
  {
   "cell_type": "code",
   "execution_count": 19,
   "id": "275271cc",
   "metadata": {},
   "outputs": [
    {
     "name": "stdout",
     "output_type": "stream",
     "text": [
      "\n",
      "📋 Summary of All Models (Sorted by Test Accuracy):\n"
     ]
    },
    {
     "data": {
      "text/html": [
       "<div>\n",
       "<style scoped>\n",
       "    .dataframe tbody tr th:only-of-type {\n",
       "        vertical-align: middle;\n",
       "    }\n",
       "\n",
       "    .dataframe tbody tr th {\n",
       "        vertical-align: top;\n",
       "    }\n",
       "\n",
       "    .dataframe thead th {\n",
       "        text-align: right;\n",
       "    }\n",
       "</style>\n",
       "<table border=\"1\" class=\"dataframe\">\n",
       "  <thead>\n",
       "    <tr style=\"text-align: right;\">\n",
       "      <th></th>\n",
       "      <th>Model</th>\n",
       "      <th>Train Accuracy</th>\n",
       "      <th>Test Accuracy</th>\n",
       "      <th>Train F1</th>\n",
       "      <th>Test F1</th>\n",
       "      <th>Generalization Gap</th>\n",
       "    </tr>\n",
       "  </thead>\n",
       "  <tbody>\n",
       "    <tr>\n",
       "      <th>0</th>\n",
       "      <td>AdaBoost (200, lr=0.5)</td>\n",
       "      <td>0.839719</td>\n",
       "      <td>0.85625</td>\n",
       "      <td>0.815964</td>\n",
       "      <td>0.832962</td>\n",
       "      <td>-0.016531</td>\n",
       "    </tr>\n",
       "    <tr>\n",
       "      <th>1</th>\n",
       "      <td>Gradient Boosting (100)</td>\n",
       "      <td>0.960125</td>\n",
       "      <td>0.85625</td>\n",
       "      <td>0.958410</td>\n",
       "      <td>0.841106</td>\n",
       "      <td>0.103875</td>\n",
       "    </tr>\n",
       "  </tbody>\n",
       "</table>\n",
       "</div>"
      ],
      "text/plain": [
       "                     Model  Train Accuracy  Test Accuracy  Train F1   Test F1  \\\n",
       "0   AdaBoost (200, lr=0.5)        0.839719        0.85625  0.815964  0.832962   \n",
       "1  Gradient Boosting (100)        0.960125        0.85625  0.958410  0.841106   \n",
       "\n",
       "   Generalization Gap  \n",
       "0           -0.016531  \n",
       "1            0.103875  "
      ]
     },
     "metadata": {},
     "output_type": "display_data"
    }
   ],
   "source": [
    "# Convert results list into a DataFrame\n",
    "results_df = pd.DataFrame(results)\n",
    "\n",
    "# Add a Generalization Gap column (Train Accuracy - Test Accuracy)\n",
    "results_df[\"Generalization Gap\"] = results_df[\"Train Accuracy\"] - results_df[\"Test Accuracy\"]\n",
    "\n",
    "# Sort the table by Test Accuracy (descending)\n",
    "results_df_sorted = results_df.sort_values(by=\"Test Accuracy\", ascending=False)\n",
    "\n",
    "# Display the enhanced summary\n",
    "print(\"\\n📋 Summary of All Models (Sorted by Test Accuracy):\")\n",
    "display(results_df_sorted)"
   ]
  },
  {
   "cell_type": "markdown",
   "id": "79eb1b63",
   "metadata": {},
   "source": [
    "*Why Add the Gap?*\n",
    "\n",
    "The generalization gap tells you how well a model performs on unseen data:\n",
    "\n",
    "Small gap = model generalizes well.\n",
    "\n",
    "Large gap = potential overfitting (model performs much better on train than test set).\n",
    "\n"
   ]
  },
  {
   "cell_type": "markdown",
   "id": "db659bd6",
   "metadata": {},
   "source": [
    "### Section 7. Conclusions and Insights"
   ]
  },
  {
   "cell_type": "markdown",
   "id": "913e126d",
   "metadata": {},
   "source": [
    "As part of the ensemble modeling phase for the red wine quality classification project, we introduced AdaBoost, a boosting algorithm known for converting weak learners into strong predictors. The goal was to evaluate how AdaBoost performs compared to other ensemble methods like Random Forest and Gradient Boosting."
   ]
  },
  {
   "cell_type": "markdown",
   "id": "5566df16",
   "metadata": {},
   "source": [
    "### Insights & Recommendations\n",
    "Both AdaBoost models performed solidly, but tuning the parameters gave a slight edge in performance.\n",
    "\n",
    "The generalization gap remained similar in both versions, suggesting neither model drastically overfit the data.\n",
    "\n",
    "AdaBoost with more estimators and lower learning rate was slightly better on the test set, making it a better candidate for production or further tuning.\n",
    "\n"
   ]
  },
  {
   "cell_type": "markdown",
   "id": "992dbce8",
   "metadata": {},
   "source": [
    "### Refrence Notebook: https://github.com/Crusoe22/applied-ml-moss/tree/main/lab05"
   ]
  },
  {
   "cell_type": "markdown",
   "id": "6e53f235",
   "metadata": {},
   "source": [
    "*Thank you*"
   ]
  }
 ],
 "metadata": {
  "kernelspec": {
   "display_name": ".venv",
   "language": "python",
   "name": "python3"
  },
  "language_info": {
   "codemirror_mode": {
    "name": "ipython",
    "version": 3
   },
   "file_extension": ".py",
   "mimetype": "text/x-python",
   "name": "python",
   "nbconvert_exporter": "python",
   "pygments_lexer": "ipython3",
   "version": "3.11.9"
  }
 },
 "nbformat": 4,
 "nbformat_minor": 5
}
