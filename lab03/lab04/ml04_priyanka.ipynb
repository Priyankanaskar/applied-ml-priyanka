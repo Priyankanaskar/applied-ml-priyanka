{
 "cells": [
  {
   "cell_type": "markdown",
   "id": "234d44e2",
   "metadata": {},
   "source": [
    "### Lab 4: Project (Titanic)\n",
    "\n",
    " Lab 4 – Predicting a Continuous Target with Regression (Titanic)\n",
    "\n",
    " Author: Priyanka Naskar\n",
    "\n",
    " Date:4/4/2025"
   ]
  },
  {
   "cell_type": "markdown",
   "id": "8572c58d",
   "metadata": {},
   "source": [
    "This lab builds on your previous work. We're now shifting from classification (predicting a class like \"survived\") to regression, where we predict a continuous numeric target.\n",
    "\n",
    "In this lab, we’ll predict fare, the amount of money paid for the journey, using features in the Titanic dataset."
   ]
  },
  {
   "cell_type": "markdown",
   "id": "995e4f55",
   "metadata": {},
   "source": [
    "### Imports"
   ]
  },
  {
   "cell_type": "code",
   "execution_count": 1,
   "id": "736b77ff",
   "metadata": {},
   "outputs": [],
   "source": [
    "import seaborn as sns\n",
    "import pandas as pd\n",
    "import numpy as np\n",
    "import matplotlib.pyplot as plt\n",
    "\n",
    "from sklearn.model_selection import train_test_split\n",
    "from sklearn.linear_model import LinearRegression, Ridge, ElasticNet\n",
    "from sklearn.preprocessing import PolynomialFeatures\n",
    "from sklearn.metrics import mean_squared_error, mean_absolute_error, r2_score\n",
    " "
   ]
  },
  {
   "cell_type": "markdown",
   "id": "949124de",
   "metadata": {},
   "source": [
    "### Section 1. Import and Inspect the Data"
   ]
  },
  {
   "cell_type": "code",
   "execution_count": 2,
   "id": "6b381181",
   "metadata": {},
   "outputs": [
    {
     "data": {
      "text/html": [
       "<div>\n",
       "<style scoped>\n",
       "    .dataframe tbody tr th:only-of-type {\n",
       "        vertical-align: middle;\n",
       "    }\n",
       "\n",
       "    .dataframe tbody tr th {\n",
       "        vertical-align: top;\n",
       "    }\n",
       "\n",
       "    .dataframe thead th {\n",
       "        text-align: right;\n",
       "    }\n",
       "</style>\n",
       "<table border=\"1\" class=\"dataframe\">\n",
       "  <thead>\n",
       "    <tr style=\"text-align: right;\">\n",
       "      <th></th>\n",
       "      <th>survived</th>\n",
       "      <th>pclass</th>\n",
       "      <th>sex</th>\n",
       "      <th>age</th>\n",
       "      <th>sibsp</th>\n",
       "      <th>parch</th>\n",
       "      <th>fare</th>\n",
       "      <th>embarked</th>\n",
       "      <th>class</th>\n",
       "      <th>who</th>\n",
       "      <th>adult_male</th>\n",
       "      <th>deck</th>\n",
       "      <th>embark_town</th>\n",
       "      <th>alive</th>\n",
       "      <th>alone</th>\n",
       "    </tr>\n",
       "  </thead>\n",
       "  <tbody>\n",
       "    <tr>\n",
       "      <th>0</th>\n",
       "      <td>0</td>\n",
       "      <td>3</td>\n",
       "      <td>male</td>\n",
       "      <td>22.0</td>\n",
       "      <td>1</td>\n",
       "      <td>0</td>\n",
       "      <td>7.2500</td>\n",
       "      <td>S</td>\n",
       "      <td>Third</td>\n",
       "      <td>man</td>\n",
       "      <td>True</td>\n",
       "      <td>NaN</td>\n",
       "      <td>Southampton</td>\n",
       "      <td>no</td>\n",
       "      <td>False</td>\n",
       "    </tr>\n",
       "    <tr>\n",
       "      <th>1</th>\n",
       "      <td>1</td>\n",
       "      <td>1</td>\n",
       "      <td>female</td>\n",
       "      <td>38.0</td>\n",
       "      <td>1</td>\n",
       "      <td>0</td>\n",
       "      <td>71.2833</td>\n",
       "      <td>C</td>\n",
       "      <td>First</td>\n",
       "      <td>woman</td>\n",
       "      <td>False</td>\n",
       "      <td>C</td>\n",
       "      <td>Cherbourg</td>\n",
       "      <td>yes</td>\n",
       "      <td>False</td>\n",
       "    </tr>\n",
       "    <tr>\n",
       "      <th>2</th>\n",
       "      <td>1</td>\n",
       "      <td>3</td>\n",
       "      <td>female</td>\n",
       "      <td>26.0</td>\n",
       "      <td>0</td>\n",
       "      <td>0</td>\n",
       "      <td>7.9250</td>\n",
       "      <td>S</td>\n",
       "      <td>Third</td>\n",
       "      <td>woman</td>\n",
       "      <td>False</td>\n",
       "      <td>NaN</td>\n",
       "      <td>Southampton</td>\n",
       "      <td>yes</td>\n",
       "      <td>True</td>\n",
       "    </tr>\n",
       "    <tr>\n",
       "      <th>3</th>\n",
       "      <td>1</td>\n",
       "      <td>1</td>\n",
       "      <td>female</td>\n",
       "      <td>35.0</td>\n",
       "      <td>1</td>\n",
       "      <td>0</td>\n",
       "      <td>53.1000</td>\n",
       "      <td>S</td>\n",
       "      <td>First</td>\n",
       "      <td>woman</td>\n",
       "      <td>False</td>\n",
       "      <td>C</td>\n",
       "      <td>Southampton</td>\n",
       "      <td>yes</td>\n",
       "      <td>False</td>\n",
       "    </tr>\n",
       "    <tr>\n",
       "      <th>4</th>\n",
       "      <td>0</td>\n",
       "      <td>3</td>\n",
       "      <td>male</td>\n",
       "      <td>35.0</td>\n",
       "      <td>0</td>\n",
       "      <td>0</td>\n",
       "      <td>8.0500</td>\n",
       "      <td>S</td>\n",
       "      <td>Third</td>\n",
       "      <td>man</td>\n",
       "      <td>True</td>\n",
       "      <td>NaN</td>\n",
       "      <td>Southampton</td>\n",
       "      <td>no</td>\n",
       "      <td>True</td>\n",
       "    </tr>\n",
       "  </tbody>\n",
       "</table>\n",
       "</div>"
      ],
      "text/plain": [
       "   survived  pclass     sex   age  sibsp  parch     fare embarked  class  \\\n",
       "0         0       3    male  22.0      1      0   7.2500        S  Third   \n",
       "1         1       1  female  38.0      1      0  71.2833        C  First   \n",
       "2         1       3  female  26.0      0      0   7.9250        S  Third   \n",
       "3         1       1  female  35.0      1      0  53.1000        S  First   \n",
       "4         0       3    male  35.0      0      0   8.0500        S  Third   \n",
       "\n",
       "     who  adult_male deck  embark_town alive  alone  \n",
       "0    man        True  NaN  Southampton    no  False  \n",
       "1  woman       False    C    Cherbourg   yes  False  \n",
       "2  woman       False  NaN  Southampton   yes   True  \n",
       "3  woman       False    C  Southampton   yes  False  \n",
       "4    man        True  NaN  Southampton    no   True  "
      ]
     },
     "execution_count": 2,
     "metadata": {},
     "output_type": "execute_result"
    }
   ],
   "source": [
    "# Load Titanic dataset from seaborn and verify\n",
    "titanic = sns.load_dataset(\"titanic\")\n",
    "titanic.head()"
   ]
  },
  {
   "cell_type": "markdown",
   "id": "356d0ae8",
   "metadata": {},
   "source": [
    "### Section 2. Data Exploration and Preparation"
   ]
  },
  {
   "cell_type": "code",
   "execution_count": 3,
   "id": "90c976da",
   "metadata": {},
   "outputs": [
    {
     "name": "stdout",
     "output_type": "stream",
     "text": [
      "Missing values in fare: 0\n",
      "Missing values in embark_town: 2 \n",
      "\n",
      "['Southampton' 'Cherbourg' 'Queenstown' nan]\n"
     ]
    }
   ],
   "source": [
    "# Check missing values in fare\n",
    "missing_count = titanic['fare'].isnull().sum()\n",
    "print(f\"Missing values in fare: {missing_count}\")\n",
    "\n",
    "# Check missing values in embark_town\n",
    "missing_count_1 = titanic['embark_town'].isnull().sum()\n",
    "print(f\"Missing values in embark_town: {missing_count_1}\", \"\\n\")\n",
    "\n",
    "# Check values in embark_town\n",
    "print(titanic['embark_town'].unique())"
   ]
  },
  {
   "cell_type": "code",
   "execution_count": 4,
   "id": "e1e0bfa0",
   "metadata": {},
   "outputs": [
    {
     "name": "stdout",
     "output_type": "stream",
     "text": [
      "embark_town\n",
      "0    644\n",
      "1    168\n",
      "2     77\n",
      "Name: count, dtype: int64\n"
     ]
    }
   ],
   "source": [
    "# Impute median for missing age values\n",
    "titanic.fillna({'age': titanic['age'].median()}, inplace=True)\n",
    "\n",
    "# Create numeric variables for family_size\n",
    "titanic['family_size'] = titanic['sibsp'] + titanic['parch'] + 1\n",
    "\n",
    "# Drop missing values in embark_town\n",
    "titanic.dropna(subset=['embark_town'], axis=0, inplace=True)\n",
    "\n",
    "# Convert embark_town to numeric variables\n",
    "titanic['embark_town'] = titanic['embark_town'].map({'Southampton': 0, 'Cherbourg': 1, 'Queenstown': 2})\n",
    "\n",
    "# Confirm numeric variables\n",
    "print(titanic['embark_town'].value_counts())"
   ]
  },
  {
   "cell_type": "markdown",
   "id": "73cdf782",
   "metadata": {},
   "source": [
    "### Section 3. Feature Selection and Justification"
   ]
  },
  {
   "cell_type": "markdown",
   "id": "06bf44b5",
   "metadata": {},
   "source": [
    "#### Case 1.age"
   ]
  },
  {
   "cell_type": "code",
   "execution_count": 5,
   "id": "35b8033d",
   "metadata": {},
   "outputs": [
    {
     "name": "stdout",
     "output_type": "stream",
     "text": [
      "Case 1 columns: ['age']\n"
     ]
    }
   ],
   "source": [
    "# Case 1. age\n",
    "X1 = titanic[['age']]\n",
    "y1 = titanic['fare']\n",
    "print(\"Case 1 columns:\", X1.columns.tolist())\n"
   ]
  },
  {
   "cell_type": "markdown",
   "id": "d4279129",
   "metadata": {},
   "source": [
    "#### Case 2.family_size only"
   ]
  },
  {
   "cell_type": "code",
   "execution_count": 6,
   "id": "93636d0f",
   "metadata": {},
   "outputs": [
    {
     "name": "stdout",
     "output_type": "stream",
     "text": [
      "Case 2 columns: ['family_size']\n"
     ]
    }
   ],
   "source": [
    "# Case 2. family_size\n",
    "X2 = titanic[['family_size']]\n",
    "y2 = titanic['fare']\n",
    "print(\"Case 2 columns:\", X2.columns.tolist())"
   ]
  },
  {
   "cell_type": "markdown",
   "id": "90f648e3",
   "metadata": {},
   "source": [
    "#### Case 3. age and family size"
   ]
  },
  {
   "cell_type": "code",
   "execution_count": 7,
   "id": "3603c5e5",
   "metadata": {},
   "outputs": [
    {
     "name": "stdout",
     "output_type": "stream",
     "text": [
      "Case 3 columns: ['age', 'family_size']\n"
     ]
    }
   ],
   "source": [
    "# Case 3. age, family_size\n",
    "X3 = titanic[['age', 'family_size']]\n",
    "y3 = titanic['fare']\n",
    "print(\"Case 3 columns:\", X3.columns.tolist())\n"
   ]
  },
  {
   "cell_type": "markdown",
   "id": "14d21a0a",
   "metadata": {},
   "source": [
    "#### Case 4.embark_town"
   ]
  },
  {
   "cell_type": "code",
   "execution_count": 8,
   "id": "edb0a092",
   "metadata": {},
   "outputs": [
    {
     "name": "stdout",
     "output_type": "stream",
     "text": [
      "Case 4 columns: ['embark_town']\n"
     ]
    }
   ],
   "source": [
    "# Case 4. embark_town\n",
    "X4 = titanic[['embark_town']]\n",
    "y4 = titanic['fare']\n",
    "print(\"Case 4 columns:\", X4.columns.tolist())\n"
   ]
  },
  {
   "cell_type": "markdown",
   "id": "b02b3022",
   "metadata": {},
   "source": [
    "eflection Questions - answer these in your notebook (in a Markdown cell):\n",
    "\n",
    "1. Why might these features affect a passenger’s fare:survived\tpclass\tsex\tage\tsibsp\tparch\tfare\tembarked\tclass\twho\tadult_male\tdeck\tembark_town\talive\talone\n",
    "0\t0\t3\tmale\t22.0\t1\t0\t7.2500\tS\tThird\tman\tTrue\tNaN\tSouthampton\tno\tFalse\n",
    "1\t1\t1\tfemale\t38.0\t1\t0\t71.2833\tC\tFirst\twoman\tFalse\tC\tCherbourg\tyes\tFalse\n",
    "2\t1\t3\tfemale\t26.0\t0\t0\t7.9250\tS\tThird\twoman\tFalse\tNaN\tSouthampton\tyes\tTrue\n",
    "3\t1\t1\tfemale\t35.0\t1\t0\t53.1000\tS\tFirst\twoman\tFalse\tC\tSouthampton\tyes\tFalse\n",
    "4\t0\t3\tmale\t35.0\t0\t0\t8.0500\tS\tThird\tman\tTrue\tNaN\tSouthampton\tno\tTrue\n",
    "\n",
    "2. List all available features: \n",
    "   \n",
    "   Survived, pclass, sex, age, sibsp, parch, fare, embarked, class, who, adult_male, deck, embark_town, alive, alone.\n",
    "\n",
    "3. Which other features could improve predictions and why:  \n",
    "   \n",
    "   Pclass - this is a direct indicator of travel class, which is a strong predictor of fare since higher classes typically cost more. Sex - a previous scatterplot in lab02 showed a higher number of female passengers in a higher fare category.\n",
    "\n",
    "4. How many variables are in your Case 4:  \n",
    "   1 variable\n",
    "   \n",
    "5. Which variable(s) did you choose for Case 4 and why do you feel those could make good inputs: \n",
    "\n",
    " Embark_town - the town may reflect regional pricing strategies or differences in the passenger demographics boarding from various ports. It might identify geographic factors that are potentially a valuable predictor for understanding fare variations.\n",
    " "
   ]
  },
  {
   "cell_type": "markdown",
   "id": "5115479e",
   "metadata": {},
   "source": [
    "### Section 4. Train a Regression Model (Linear Regression)"
   ]
  },
  {
   "cell_type": "markdown",
   "id": "3fc9cbee",
   "metadata": {},
   "source": [
    "##### 4.1 Split the Data"
   ]
  },
  {
   "cell_type": "code",
   "execution_count": 9,
   "id": "3ad6ab8f",
   "metadata": {},
   "outputs": [],
   "source": [
    "X1_train, X1_test, y1_train, y1_test = train_test_split(X1, y1, test_size=0.2, random_state=123)\n",
    "\n",
    "X2_train, X2_test, y2_train, y2_test = train_test_split(X2, y2, test_size=0.2, random_state=123)\n",
    "\n",
    "X3_train, X3_test, y3_train, y3_test = train_test_split(X3, y3, test_size=0.2, random_state=123)\n",
    "\n",
    "X4_train, X4_test, y4_train, y4_test = train_test_split(X4, y4, test_size=0.2, random_state=123)"
   ]
  },
  {
   "cell_type": "markdown",
   "id": "5d91704f",
   "metadata": {},
   "source": [
    "#### 4.2 Train and Evaluate Linear Regression Models (all 4 cases)"
   ]
  },
  {
   "cell_type": "code",
   "execution_count": 10,
   "id": "2ebbf58d",
   "metadata": {},
   "outputs": [
    {
     "name": "stdout",
     "output_type": "stream",
     "text": [
      "Train size: 711\n",
      "Test size: 178\n"
     ]
    }
   ],
   "source": [
    "lr_model1 = LinearRegression().fit(X1_train, y1_train)\n",
    "lr_model2 = LinearRegression().fit(X2_train, y2_train)\n",
    "lr_model3 = LinearRegression().fit(X3_train, y3_train)\n",
    "lr_model4 = LinearRegression().fit(X4_train, y4_train)\n",
    "\n",
    "# Predictions\n",
    "\n",
    "y_pred_train1 = lr_model1.predict(X1_train)\n",
    "y_pred_test1 = lr_model1.predict(X1_test)\n",
    "\n",
    "y_pred_train2 = lr_model2.predict(X2_train)\n",
    "y_pred_test2 = lr_model2.predict(X2_test)\n",
    "\n",
    "# TODO: repeat for case 3 and 4 .... \n",
    "# Show set sizes - should be the same for all 4\n",
    "print('Train size:', len(X1_train))\n",
    "print('Test size:', len(X1_test))"
   ]
  },
  {
   "cell_type": "markdown",
   "id": "8d6b02db",
   "metadata": {},
   "source": [
    "#### 4.2 Train and Evaluate Linear Regression Models (all 4 cases)"
   ]
  },
  {
   "cell_type": "code",
   "execution_count": 13,
   "id": "023ff9dc",
   "metadata": {},
   "outputs": [],
   "source": [
    "lr_model1 = LinearRegression().fit(X1_train, y1_train)\n",
    "lr_model2 = LinearRegression().fit(X2_train, y2_train)\n",
    "lr_model3 = LinearRegression().fit(X3_train, y3_train)\n",
    "lr_model4 = LinearRegression().fit(X4_train, y4_train)\n",
    "\n",
    "# Predictions\n",
    "\n",
    "y1_pred_train = lr_model1.predict(X1_train)\n",
    "y1_pred_test = lr_model1.predict(X1_test)\n",
    "\n",
    "y2_pred_train = lr_model2.predict(X2_train)\n",
    "y2_pred_test = lr_model2.predict(X2_test)\n",
    "\n",
    "y3_pred_train = lr_model3.predict(X3_train)\n",
    "y3_pred_test = lr_model3.predict(X3_test)\n",
    "\n",
    "y4_pred_train = lr_model4.predict(X4_train)\n",
    "y4_pred_test = lr_model4.predict(X4_test)"
   ]
  },
  {
   "cell_type": "markdown",
   "id": "5f3ceb41",
   "metadata": {},
   "source": [
    "#### 4.3 Report Performance"
   ]
  },
  {
   "cell_type": "code",
   "execution_count": 39,
   "id": "4f0bbd0e",
   "metadata": {},
   "outputs": [
    {
     "name": "stdout",
     "output_type": "stream",
     "text": [
      "Case 1: Training R²: 0.010665549865473078\n",
      "Case 1: Test R²: -0.002849705312795381\n",
      "Case 1: Test RMSE: 43.6496331209602\n",
      "Case 1: Test MAE: 27.25460517226281\n"
     ]
    }
   ],
   "source": [
    "print(\"Case 1: Training R²:\", r2_score(y1_train, y_pred_train1))\n",
    "print(\"Case 1: Test R²:\", r2_score(y1_test, y_pred_test1))\n",
    "\n",
    "test_rmse1 = np.sqrt(mean_squared_error(y1_test, y_pred_test1))\n",
    "print(\"Case 1: Test RMSE:\", test_rmse1)\n",
    "print(\"Case 1: Test MAE:\", mean_absolute_error(y1_test, y_pred_test1))"
   ]
  },
  {
   "cell_type": "code",
   "execution_count": 38,
   "id": "d0c17d21",
   "metadata": {},
   "outputs": [
    {
     "name": "stdout",
     "output_type": "stream",
     "text": [
      "Case 2: Training R²: 0.046614184142382054\n",
      "Case 2: Test R²: 0.05400121408427372\n",
      "Case 2: Test RMSE: 42.39434811901612\n",
      "Case 2: Test MAE: 26.105796008939556\n"
     ]
    }
   ],
   "source": [
    "print(\"Case 2: Training R²:\", r2_score(y2_train, y_pred_train2))\n",
    "print(\"Case 2: Test R²:\", r2_score(y2_test, y_pred_test2))\n",
    "\n",
    "test_rmse2 = np.sqrt(mean_squared_error(y2_test, y_pred_test2))\n",
    "print(\"Case 2: Test RMSE:\", test_rmse2)\n",
    "print(\"Case 2: Test MAE:\", mean_absolute_error(y2_test, y_pred_test2))"
   ]
  },
  {
   "cell_type": "code",
   "execution_count": 40,
   "id": "79fe51f1",
   "metadata": {},
   "outputs": [
    {
     "name": "stdout",
     "output_type": "stream",
     "text": [
      "Case 3: Training R²: 0.07344429171770106\n",
      "Case 3: Test R²: 0.05423920692432882\n",
      "Case 3: Test RMSE: 42.3890150329068\n",
      "Case 3: Test MAE: 25.629772678100053\n"
     ]
    }
   ],
   "source": [
    "print(\"Case 3: Training R²:\", r2_score(y3_train, y_pred_train3))\n",
    "print(\"Case 3: Test R²:\", r2_score(y3_test, y_pred_test3))\n",
    "\n",
    "test_rmse3 = np.sqrt(mean_squared_error(y3_test, y_pred_test3))\n",
    "print(\"Case 3: Test RMSE:\", test_rmse3)\n",
    "print(\"Case 3: Test MAE:\", mean_absolute_error(y3_test, y_pred_test3))"
   ]
  },
  {
   "cell_type": "code",
   "execution_count": 41,
   "id": "4f9b4afd",
   "metadata": {},
   "outputs": [
    {
     "name": "stdout",
     "output_type": "stream",
     "text": [
      "Case 4: Training R²: 0.0015257474060732523\n",
      "Case 4: Test R²: 0.013763269521885335\n",
      "Case 4: Test RMSE: 43.28657843999514\n",
      "Case 4: Test MAE: 26.912236474636334\n"
     ]
    }
   ],
   "source": [
    "print(\"Case 4: Training R²:\", r2_score(y4_train, y_pred_train4))\n",
    "print(\"Case 4: Test R²:\", r2_score(y4_test, y_pred_test4))\n",
    "\n",
    "test_rmse4 = np.sqrt(mean_squared_error(y4_test, y_pred_test4))\n",
    "print(\"Case 4: Test RMSE:\", test_rmse4)\n",
    "print(\"Case 4: Test MAE:\", mean_absolute_error(y4_test, y_pred_test4))"
   ]
  },
  {
   "cell_type": "markdown",
   "id": "534aae9b",
   "metadata": {},
   "source": [
    "#### Section 5. Compare Alternative Models"
   ]
  },
  {
   "cell_type": "markdown",
   "id": "05531dc8",
   "metadata": {},
   "source": [
    "##### 5.1 Ridge Regression (L2 penalty)\n"
   ]
  },
  {
   "cell_type": "code",
   "execution_count": 42,
   "id": "740caa47",
   "metadata": {},
   "outputs": [],
   "source": [
    "ridge_model = Ridge(alpha=1.0)\n",
    "ridge_model.fit(X4_train, y4_train)\n",
    "y_pred_ridge = ridge_model.predict(X4_test)"
   ]
  },
  {
   "cell_type": "markdown",
   "id": "585b2dc7",
   "metadata": {},
   "source": [
    "5.2 Elastic Net (L1 + L2 combined)"
   ]
  },
  {
   "cell_type": "code",
   "execution_count": 43,
   "id": "61c3141e",
   "metadata": {},
   "outputs": [],
   "source": [
    "elastic_model = ElasticNet(alpha=0.3, l1_ratio=0.5)\n",
    "elastic_model.fit(X4_train, y4_train)\n",
    "y_pred_elastic = elastic_model.predict(X4_test)"
   ]
  },
  {
   "cell_type": "markdown",
   "id": "7b0b86d8",
   "metadata": {},
   "source": [
    "5.3 Polynomial Regression"
   ]
  },
  {
   "cell_type": "code",
   "execution_count": 44,
   "id": "4a2471f5",
   "metadata": {},
   "outputs": [],
   "source": [
    "# Set up the poly inputs\n",
    "poly = PolynomialFeatures(degree=3)\n",
    "X_train_poly = poly.fit_transform(X1_train)\n",
    "X_test_poly = poly.transform(X1_test)"
   ]
  },
  {
   "cell_type": "code",
   "execution_count": 45,
   "id": "85783db0",
   "metadata": {},
   "outputs": [],
   "source": [
    "# Use the poly inputs in the LR model\n",
    "poly_model = LinearRegression()\n",
    "poly_model.fit(X_train_poly, y1_train)\n",
    "y_pred_poly = poly_model.predict(X_test_poly)"
   ]
  },
  {
   "cell_type": "markdown",
   "id": "8823f90b",
   "metadata": {},
   "source": [
    "5.4 Visualize Polynomial Cubic Fit (for 1 input feature)"
   ]
  },
  {
   "cell_type": "code",
   "execution_count": 56,
   "id": "fa28be02",
   "metadata": {},
   "outputs": [
    {
     "data": {
      "image/png": "[encoded data removed]",
      "text/plain": [
       "<Figure size 640x480 with 1 Axes>"
      ]
     },
     "metadata": {},
     "output_type": "display_data"
    }
   ],
   "source": [
    "plt.scatter(X1_test, y1_test, color='red', label='Actual')\n",
    "plt.scatter(X1_test, y_pred_poly, color='green', label='Predicted (Poly)')\n",
    "plt.legend()\n",
    "plt.title(\"Polynomial Regression: Age vs Fare\")\n",
    "plt.show()\n"
   ]
  },
  {
   "cell_type": "markdown",
   "id": "62c95a7f",
   "metadata": {},
   "source": [
    "5.5 Compare All Models"
   ]
  },
  {
   "cell_type": "code",
   "execution_count": 57,
   "id": "a0f4b34a",
   "metadata": {},
   "outputs": [
    {
     "name": "stdout",
     "output_type": "stream",
     "text": [
      "Linear (Case 4) R²: 0.014\n",
      "Linear (Case 4) RMSE: 43.29\n",
      "Linear (Case 4) MAE: 26.91\n",
      "\n",
      "Ridge (Case 4) R²: 0.014\n",
      "Ridge (Case 4) RMSE: 43.29\n",
      "Ridge (Case 4) MAE: 26.91\n",
      "\n",
      "ElasticNet (Case 4) R²: 0.009\n",
      "ElasticNet (Case 4) RMSE: 43.39\n",
      "ElasticNet (Case 4) MAE: 26.95\n",
      "\n",
      "Polynomial (Case 4) R²: -0.013\n",
      "Polynomial (Case 4) RMSE: 43.86\n",
      "Polynomial (Case 4) MAE: 26.96\n",
      "\n"
     ]
    }
   ],
   "source": [
    "def report(name, y_true, y_pred):\n",
    "    print(f\"{name} R²: {r2_score(y_true, y_pred):.3f}\")\n",
    "    \n",
    "    # Calculate RMSE manually\n",
    "    rmse = np.sqrt(mean_squared_error(y_true, y_pred))\n",
    "    print(f\"{name} RMSE: {rmse:.2f}\")\n",
    "    \n",
    "    # MAE\n",
    "    print(f\"{name} MAE: {mean_absolute_error(y_true, y_pred):.2f}\\n\")\n",
    "\n",
    "# Reporting the metrics for each model\n",
    "report(\"Linear (Case 4)\", y4_test, y_pred_test4)\n",
    "report(\"Ridge (Case 4)\", y4_test, y_pred_ridge)\n",
    "report(\"ElasticNet (Case 4)\", y4_test, y_pred_elastic)\n",
    "report(\"Polynomial (Case 4)\", y4_test, y_pred_poly)"
   ]
  },
  {
   "cell_type": "markdown",
   "id": "6a98bafe",
   "metadata": {},
   "source": [
    "Reflection 5.4-5.5\n"
   ]
  },
  {
   "cell_type": "markdown",
   "id": "6340edaf",
   "metadata": {},
   "source": [
    "1. What patterns does the cubic model seem to capture:\n",
    "   \n",
    "It captures what looks to be a non-linear trend between age and fare.\n",
    "\n",
    "2. Where does it perform well or poorly:\n",
    "   \n",
    "It performs pretty well in the middle ages, but with children and seniors it seems to struggle.\n",
    "\n",
    "3. Did the polynomial fit outperform linear regression:\n",
    "   \n",
    "No it did not. It had a lower r2 value and a higher RMSE.\n",
    "\n",
    "4. Where (on the graph or among which kinds of data points) does it fit best:\n",
    "   \n",
    "From about age 15-40."
   ]
  },
  {
   "cell_type": "markdown",
   "id": "8c7755c3",
   "metadata": {},
   "source": [
    "#### 5.5 Visualize Higher Order Polynomial (for the same 1 input case)"
   ]
  },
  {
   "cell_type": "code",
   "execution_count": 63,
   "id": "dd4b90a9",
   "metadata": {},
   "outputs": [
    {
     "data": {
      "image/png": "[encoded data removed]",
      "text/plain": [
       "<Figure size 800x500 with 1 Axes>"
      ]
     },
     "metadata": {},
     "output_type": "display_data"
    }
   ],
   "source": [
    "# Higher Degree Polynomial (8)\n",
    "poly5 = PolynomialFeatures(degree=8)\n",
    "X1_train_poly5 = poly5.fit_transform(X1_train)\n",
    "X1_test_poly5 = poly5.transform(X1_test)\n",
    "\n",
    "poly_model5 = LinearRegression()\n",
    "poly_model5.fit(X1_train_poly5, y1_train)\n",
    "y_pred_poly5 = poly_model5.predict(X1_test_poly5)\n",
    "\n",
    "# Plot\n",
    "plt.figure(figsize=(8, 5))\n",
    "plt.scatter(X1_test, y1_test, color='red', label='Actual')\n",
    "plt.scatter(X1_test, y_pred_poly5, color='green', label='Predicted (Poly Degree 5)')\n",
    "plt.legend()\n",
    "plt.title(\"Polynomial Regression (Degree 5): Age vs Fare\")\n",
    "plt.xlabel(\"Age\")\n",
    "plt.ylabel(\"Fare\")\n",
    "plt.grid(True)\n",
    "plt.show()"
   ]
  },
  {
   "cell_type": "markdown",
   "id": "d0936c3f",
   "metadata": {},
   "source": [
    "Reflection 5.5\n",
    "\n",
    "Which model performed better and why?\n",
    "\n",
    "The degree 8 model looks to have overfit the noise better than the degree 5 model, although they look very alike.\n",
    "\n",
    "Why?\n",
    "\n",
    "When you increase the degree of the polynomial, and with little data, the generalizations become worse."
   ]
  },
  {
   "cell_type": "markdown",
   "id": "60d753e0",
   "metadata": {},
   "source": [
    "#### Section 6. Final Thoughts and Insights\n",
    "\n",
    "6.1 Summarize Findings\n",
    "\n",
    "What features were most useful? Sex and age were the most useful features in this model but not ideal to predict fare. Sex perfomed the best out of all cases, and age added some improvement in the later cases ran. There are other features that would been a better fit than sex.\n",
    "\n",
    "What regression model performed best? Linear regression performed the best as it had the highest R2 test score and lower errors even though all cases were underfit.\n",
    "\n",
    "How did model complexity or regularization affect results? Neither model performed well enough to identity fare. Linear regression (the simpler model) did not perform well but when adding complexity with polynomial regression, it did not perform as well either.\n",
    "\n",
    "6.2 Discuss Challenges\n",
    "\n",
    "Was fare hard to predict? Why? Fare was hard to predict since the all models were underfit with low R2 values and high error values based of the features selected. If different features like pclass were used, I believe this model would been better executed.\n",
    "\n",
    "Did skew or outliers impact the models? I believe that both skew and outlier hurt the performance of the models as there were many low fares and with a few high fares and outliers that made the models underfit from poor performance.\n",
    "\n",
    "6.3 Optional Next Steps\n",
    "\n",
    "Try different features besides the ones used (e.g., pclass, sex if you didn't use them this time)\n",
    "\n",
    "Try predicting age instead of fare\n",
    "\n",
    "Explore log transformation of fare to reduce skew"
   ]
  }
 ],
 "metadata": {
  "kernelspec": {
   "display_name": "base",
   "language": "python",
   "name": "python3"
  },
  "language_info": {
   "codemirror_mode": {
    "name": "ipython",
    "version": 3
   },
   "file_extension": ".py",
   "mimetype": "text/x-python",
   "name": "python",
   "nbconvert_exporter": "python",
   "pygments_lexer": "ipython3",
   "version": "3.12.7"
  }
 },
 "nbformat": 4,
 "nbformat_minor": 5
}
