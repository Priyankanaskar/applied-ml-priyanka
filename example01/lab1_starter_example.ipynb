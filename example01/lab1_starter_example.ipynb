{
 "cells": [
  {
   "cell_type": "markdown",
   "metadata": {},
   "source": [
    "# My first applied machine learning notebook. \n",
    "We are going to get some data about cars and use it to create and evaluate a predictive model.  Here are the steps will we use:\n",
    "1. Read in the data from a CSV file\n",
    "2. Clean the data\n",
    "3. Create a model and fit it to the data\n",
    "4. Get performance metrics for the model"
   ]
  },
  {
   "cell_type": "markdown",
   "metadata": {},
   "source": [
    "### Getting the data:\n",
    "We need to get the data where we can find it.   Copy automobile_price_data3.csv into the same Getting the data:\n",
    "\n",
    "* Assignment is not an expression. Nothing is displayed.\n",
    "* Print will cause something to be displayed.\n",
    "* The last expression evaluated in a cell will be displayed."
   ]
  },
  {
   "cell_type": "code",
   "execution_count": 3,
   "metadata": {},
   "outputs": [],
   "source": [
    "import pandas as pd\n",
    "\n",
    "data_frame = pd.read_csv(\"automobile_price_data3.csv\")"
   ]
  },
  {
   "cell_type": "code",
   "execution_count": 4,
   "metadata": {},
   "outputs": [
    {
     "name": "stdout",
     "output_type": "stream",
     "text": [
      "Index(['normalized-losses', 'make', 'fuel', 'doors', 'body', 'drive', 'weight',\n",
      "       'engine-size', 'bhp', 'mpg', 'price'],\n",
      "      dtype='object')\n",
      "\n",
      "<class 'pandas.core.frame.DataFrame'>\n",
      "RangeIndex: 205 entries, 0 to 204\n",
      "Data columns (total 11 columns):\n",
      " #   Column             Non-Null Count  Dtype  \n",
      "---  ------             --------------  -----  \n",
      " 0   normalized-losses  164 non-null    float64\n",
      " 1   make               205 non-null    object \n",
      " 2   fuel               205 non-null    object \n",
      " 3   doors              203 non-null    object \n",
      " 4   body               205 non-null    object \n",
      " 5   drive              205 non-null    object \n",
      " 6   weight             205 non-null    int64  \n",
      " 7   engine-size        205 non-null    int64  \n",
      " 8   bhp                203 non-null    float64\n",
      " 9   mpg                205 non-null    int64  \n",
      " 10  price              201 non-null    float64\n",
      "dtypes: float64(3), int64(3), object(5)\n",
      "memory usage: 17.7+ KB\n"
     ]
    },
    {
     "data": {
      "text/html": [
       "<div>\n",
       "<style scoped>\n",
       "    .dataframe tbody tr th:only-of-type {\n",
       "        vertical-align: middle;\n",
       "    }\n",
       "\n",
       "    .dataframe tbody tr th {\n",
       "        vertical-align: top;\n",
       "    }\n",
       "\n",
       "    .dataframe thead th {\n",
       "        text-align: right;\n",
       "    }\n",
       "</style>\n",
       "<table border=\"1\" class=\"dataframe\">\n",
       "  <thead>\n",
       "    <tr style=\"text-align: right;\">\n",
       "      <th></th>\n",
       "      <th>normalized-losses</th>\n",
       "      <th>make</th>\n",
       "      <th>fuel</th>\n",
       "      <th>doors</th>\n",
       "      <th>body</th>\n",
       "      <th>drive</th>\n",
       "      <th>weight</th>\n",
       "      <th>engine-size</th>\n",
       "      <th>bhp</th>\n",
       "      <th>mpg</th>\n",
       "      <th>price</th>\n",
       "    </tr>\n",
       "  </thead>\n",
       "  <tbody>\n",
       "    <tr>\n",
       "      <th>200</th>\n",
       "      <td>95.0</td>\n",
       "      <td>volvo</td>\n",
       "      <td>unleaded</td>\n",
       "      <td>four</td>\n",
       "      <td>saloon</td>\n",
       "      <td>rwd</td>\n",
       "      <td>2952</td>\n",
       "      <td>141</td>\n",
       "      <td>114.0</td>\n",
       "      <td>28</td>\n",
       "      <td>16845.0</td>\n",
       "    </tr>\n",
       "    <tr>\n",
       "      <th>201</th>\n",
       "      <td>95.0</td>\n",
       "      <td>volvo</td>\n",
       "      <td>unleaded</td>\n",
       "      <td>four</td>\n",
       "      <td>saloon</td>\n",
       "      <td>rwd</td>\n",
       "      <td>3049</td>\n",
       "      <td>141</td>\n",
       "      <td>160.0</td>\n",
       "      <td>25</td>\n",
       "      <td>19045.0</td>\n",
       "    </tr>\n",
       "    <tr>\n",
       "      <th>202</th>\n",
       "      <td>95.0</td>\n",
       "      <td>volvo</td>\n",
       "      <td>unleaded</td>\n",
       "      <td>four</td>\n",
       "      <td>saloon</td>\n",
       "      <td>rwd</td>\n",
       "      <td>3012</td>\n",
       "      <td>173</td>\n",
       "      <td>134.0</td>\n",
       "      <td>23</td>\n",
       "      <td>21485.0</td>\n",
       "    </tr>\n",
       "    <tr>\n",
       "      <th>203</th>\n",
       "      <td>95.0</td>\n",
       "      <td>volvo</td>\n",
       "      <td>diesel</td>\n",
       "      <td>four</td>\n",
       "      <td>saloon</td>\n",
       "      <td>rwd</td>\n",
       "      <td>3217</td>\n",
       "      <td>145</td>\n",
       "      <td>106.0</td>\n",
       "      <td>27</td>\n",
       "      <td>22470.0</td>\n",
       "    </tr>\n",
       "    <tr>\n",
       "      <th>204</th>\n",
       "      <td>95.0</td>\n",
       "      <td>volvo</td>\n",
       "      <td>unleaded</td>\n",
       "      <td>four</td>\n",
       "      <td>saloon</td>\n",
       "      <td>rwd</td>\n",
       "      <td>3062</td>\n",
       "      <td>141</td>\n",
       "      <td>114.0</td>\n",
       "      <td>25</td>\n",
       "      <td>22625.0</td>\n",
       "    </tr>\n",
       "  </tbody>\n",
       "</table>\n",
       "</div>"
      ],
      "text/plain": [
       "     normalized-losses   make      fuel doors    body drive  weight  \\\n",
       "200               95.0  volvo  unleaded  four  saloon   rwd    2952   \n",
       "201               95.0  volvo  unleaded  four  saloon   rwd    3049   \n",
       "202               95.0  volvo  unleaded  four  saloon   rwd    3012   \n",
       "203               95.0  volvo    diesel  four  saloon   rwd    3217   \n",
       "204               95.0  volvo  unleaded  four  saloon   rwd    3062   \n",
       "\n",
       "     engine-size    bhp  mpg    price  \n",
       "200          141  114.0   28  16845.0  \n",
       "201          141  160.0   25  19045.0  \n",
       "202          173  134.0   23  21485.0  \n",
       "203          145  106.0   27  22470.0  \n",
       "204          141  114.0   25  22625.0  "
      ]
     },
     "execution_count": 4,
     "metadata": {},
     "output_type": "execute_result"
    }
   ],
   "source": [
    "print(data_frame.keys())\n",
    "print()\n",
    "data_frame.head(n=10)\n",
    "#data_frame.tail(n=5)\n",
    "data_frame.info()\n",
    "data_frame.tail(n=5)"
   ]
  },
  {
   "cell_type": "markdown",
   "metadata": {},
   "source": [
    "### Clean the data:\n",
    "Remove columns or rows that have missing data.\n",
    "Look at the distribution of the data values"
   ]
  },
  {
   "cell_type": "markdown",
   "metadata": {},
   "source": [
    "### Create and train a model\n",
    "We need to split the data into a training set and a test set"
   ]
  },
  {
   "cell_type": "markdown",
   "metadata": {},
   "source": [
    "### Determine the performance of the model"
   ]
  }
 ],
 "metadata": {
  "kernelspec": {
   "display_name": ".venv",
   "language": "python",
   "name": "python3"
  },
  "language_info": {
   "codemirror_mode": {
    "name": "ipython",
    "version": 3
   },
   "file_extension": ".py",
   "mimetype": "text/x-python",
   "name": "python",
   "nbconvert_exporter": "python",
   "pygments_lexer": "ipython3",
   "version": "3.11.9"
  }
 },
 "nbformat": 4,
 "nbformat_minor": 4
}
